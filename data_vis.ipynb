{
 "cells": [
  {
   "cell_type": "code",
   "execution_count": 5,
   "metadata": {},
   "outputs": [],
   "source": [
    "import vitaldb\n",
    "import numpy as np\n",
    "import pandas as pd\n",
    "import scipy.signal as ss\n",
    "from scipy.ndimage import minimum_filter1d, maximum_filter1d\n",
    "import pandas as pd\n",
    "import matplotlib.pyplot as plt\n",
    "import seaborn as sns\n",
    "import datetime\n",
    "from tqdm.auto import tqdm\n",
    "import random\n",
    "\n",
    "# colorblind friendly palette\n",
    "import matplotlib as mpl\n",
    "cp = [\"#172A5A\", \"#FF7171\", \"#227567\", \"#34BAEA\", \"#F9D466\", ]\n",
    "mpl.rcParams['axes.prop_cycle'] = mpl.cycler(color=cp)\n",
    "\n",
    "# set default font\n",
    "plt.rcParams['font.family'] = 'sans-serif'\n",
    "plt.rcParams['font.sans-serif'] = ['Open Sans', 'Arial']\n",
    "plt.rcParams['figure.figsize'] = [10, 5]"
   ]
  },
  {
   "cell_type": "code",
   "execution_count": 2,
   "metadata": {},
   "outputs": [],
   "source": [
    "def um(ta=None, tb=None, data=[[], [], []], t=[]):\n",
    "    ta = ta if ta else t.min()\n",
    "    tb = tb if tb else t.max()\n",
    "    twin = (t >= ta) & (t <= tb)\n",
    "\n",
    "    plt.figure(figsize=(12,8), dpi=100)\n",
    "    for i, sig in enumerate(data):\n",
    "        sig = np.ma.masked_invalid(sig)\n",
    "        plt.subplot(3,1,i+1)\n",
    "        plt.plot(t[twin], sig[twin], lw=1, c=cp[i])\n",
    "        sns.despine(bottom=i<2)\n",
    "        if i<2: plt.xticks([])\n",
    "        plt.xlim(ta, tb)\n",
    "        plt.tight_layout()\n",
    "        plt.show()"
   ]
  },
  {
   "cell_type": "code",
   "execution_count": 3,
   "metadata": {},
   "outputs": [],
   "source": [
    "df_trks = pd.read_csv('https://api.vitaldb.net/trks')  # read track list\n",
    "df_cases = pd.read_csv(\"https://api.vitaldb.net/cases\")  # read case information"
   ]
  },
  {
   "cell_type": "code",
   "execution_count": 4,
   "metadata": {},
   "outputs": [
    {
     "name": "stdout",
     "output_type": "stream",
     "text": [
      "Total 3235 cases found\n"
     ]
    }
   ],
   "source": [
    "caseids = list(\n",
    "    set(df_trks[df_trks['tname'] == 'SNUADC/ART']['caseid']) &\n",
    "    set(df_trks[df_trks['tname'] == 'SNUADC/ECG_II']['caseid']) &\n",
    "    set(df_trks[df_trks['tname'] == 'SNUADC/PLETH']['caseid']) &\n",
    "    set(df_cases[df_cases['age'] > 18]['caseid']) &\n",
    "    set(df_cases[df_cases['age'] >= 18]['caseid']) & \n",
    "    set(df_cases[df_cases['weight'] >= 30]['caseid']) & \n",
    "    set(df_cases[df_cases['weight'] < 140]['caseid']) & \n",
    "    set(df_cases[df_cases['height'] >= 135]['caseid']) & \n",
    "    set(df_cases[df_cases['height'] < 200]['caseid']) & \n",
    "    set(df_cases[~df_cases['opname'].str.contains(\"transplant\", case=False)]['caseid']) & \n",
    "    set(df_cases[~df_cases['opname'].str.contains(\"aneurysm\", case=False)]['caseid']) & \n",
    "    set(df_cases[~df_cases['opname'].str.contains(\"aorto\", case=False)]['caseid'])& \n",
    "    set(df_cases[df_cases['ane_type'] == 'General']['caseid'])\n",
    ")\n",
    "print('Total {} cases found'.format(len(caseids)))"
   ]
  },
  {
   "cell_type": "code",
   "execution_count": 14,
   "metadata": {},
   "outputs": [
    {
     "name": "stdout",
     "output_type": "stream",
     "text": [
      "Number of ART NaNs: 112\n",
      "Number of PPG NaNs: 112\n",
      "Percent NaN: 5.726920001063571e-05\n",
      "Length: 1955676\n",
      "Number of ART NaNs: 194\n",
      "Number of PPG NaNs: 194\n",
      "Percent NaN: 0.0002007570818612872\n",
      "Length: 966342\n",
      "Number of ART NaNs: 319\n",
      "Number of PPG NaNs: 319\n",
      "Percent NaN: 0.00020988733852985434\n",
      "Length: 1519863\n",
      "Number of ART NaNs: 97\n",
      "Number of PPG NaNs: 97\n",
      "Percent NaN: 4.84421600608873e-05\n",
      "Length: 2002388\n",
      "Number of ART NaNs: 21032\n",
      "Number of PPG NaNs: 21032\n",
      "Percent NaN: 0.005493516673444755\n",
      "Length: 3828513\n",
      "Number of ART NaNs: 4125\n",
      "Number of PPG NaNs: 4125\n",
      "Percent NaN: 0.003396017644472765\n",
      "Length: 1214658\n",
      "Number of ART NaNs: 2418\n",
      "Number of PPG NaNs: 2418\n",
      "Percent NaN: 0.0015255876635606005\n",
      "Length: 1584963\n",
      "Number of ART NaNs: 2535\n",
      "Number of PPG NaNs: 2535\n",
      "Percent NaN: 0.0013070122884934453\n",
      "Length: 1939538\n",
      "Number of ART NaNs: 3438\n",
      "Number of PPG NaNs: 3438\n",
      "Percent NaN: 0.006068265337461213\n",
      "Length: 566554\n",
      "Number of ART NaNs: 2902\n",
      "Number of PPG NaNs: 2902\n",
      "Percent NaN: 0.0017848027307112765\n",
      "Length: 1625950\n"
     ]
    }
   ],
   "source": [
    "random_inds = random.sample(range(3235), 10)\n",
    "fs = 125\n",
    "\n",
    "for ind in random_inds:\n",
    "    track_names = ['ECG_II', 'ART', 'PLETH']\n",
    "    vf = vitaldb.VitalFile(caseids[ind], track_names) \n",
    "    data = vf.to_numpy(track_names, 1/fs)\n",
    "    t = np.arange(data.shape[0]) / fs\n",
    "    \n",
    "    ecg, art, ppg = data[:, 0], data[:, 1], data[:, 2]\n",
    "    \n",
    "    fourier_coeffs_art = np.fft.fft(art)\n",
    "    fourier_coeffs_ppg = np.fft.fft(ppg)\n",
    "    \n",
    "    print(f'Number of ART NaNs: {np.count_nonzero(np.isnan(art))}', end = \"\\n\")\n",
    "    print(f'Number of PPG NaNs: {np.count_nonzero(np.isnan(ppg))}', end = \"\\n\")\n",
    "    print(f'Percent NaN: {np.count_nonzero(np.isnan(ppg)) / len(np.isnan(ppg))}', end = \"\\n\")\n",
    "    print(f'Length: {len(np.isnan(ppg))}', end = \"\\n\")   \n",
    "\n",
    "    \n",
    "    # plt.figure(figsize=(8,4))\n",
    "    # plt.subplot(2,1,1)\n",
    "    # plt.plot(t, art, lw=1, label = \"Original ART\")\n",
    "    # #plt.xlim([0, len(ppg)])\n",
    "    # sns.despine()\n",
    "    # plt.gca().margins(0)\n",
    "    # plt.legend()\n",
    "    # plt.subplot(2, 1, 2)\n",
    "    # plt.plot(np.abs(fourier_coeffs_art), label='real part')\n",
    "    # plt.legend()\n",
    "    # plt.show()\n",
    "    \n",
    "    # plt.figure(figsize=(8,4))\n",
    "    # plt.subplot(2,1,1)\n",
    "    # plt.plot(t, ppg, lw=1, label = \"Original PPG\")\n",
    "    # #plt.xlim([0, len(ppg)])\n",
    "    # sns.despine()\n",
    "    # plt.gca().margins(0)\n",
    "    # plt.legend()\n",
    "    # plt.subplot(2, 1, 2)\n",
    "    # plt.plot(np.abs(fourier_coeffs_ppg), label='real part')\n",
    "    # plt.legend()\n",
    "    # plt.show()"
   ]
  },
  {
   "cell_type": "code",
   "execution_count": null,
   "metadata": {},
   "outputs": [],
   "source": []
  }
 ],
 "metadata": {
  "kernelspec": {
   "display_name": "base",
   "language": "python",
   "name": "python3"
  },
  "language_info": {
   "codemirror_mode": {
    "name": "ipython",
    "version": 3
   },
   "file_extension": ".py",
   "mimetype": "text/x-python",
   "name": "python",
   "nbconvert_exporter": "python",
   "pygments_lexer": "ipython3",
   "version": "3.9.16"
  },
  "orig_nbformat": 4
 },
 "nbformat": 4,
 "nbformat_minor": 2
}
