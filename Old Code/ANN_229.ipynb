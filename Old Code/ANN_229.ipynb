{
  "cells": [
    {
      "cell_type": "code",
      "execution_count": 2,
      "metadata": {
        "colab": {
          "base_uri": "https://localhost:8080/"
        },
        "id": "YyZJGFZwBLJz",
        "outputId": "3b0d6802-564d-4547-d2f0-200c2dba9368"
      },
      "outputs": [
        {
          "name": "stdout",
          "output_type": "stream",
          "text": [
            "Mounted at /content/drive\n",
            "/content/drive/My Drive/nn_test\n"
          ]
        }
      ],
      "source": [
        "# this mounts your Google Drive to the Colab VM.\n",
        "from google.colab import drive\n",
        "drive.mount('/content/drive', force_remount=True)\n",
        "\n",
        "# enter the foldername in your Drive where you have saved the unzipped\n",
        "# workshop folder, e.g. 'acmlab/project'\n",
        "FOLDERNAME = 'nn_test'\n",
        "assert FOLDERNAME is not None, \"[!] Enter the foldername.\"\n",
        "\n",
        "# now that we've mounted your Drive, this ensures that\n",
        "# the Python interpreter of the Colab VM can load\n",
        "# python files from within it.\n",
        "import sys\n",
        "PATH = '/content/drive/My Drive/{}'.format(FOLDERNAME)\n",
        "sys.path.append(PATH)\n",
        "\n",
        "%cd $PATH"
      ]
    },
    {
      "cell_type": "code",
      "execution_count": 26,
      "metadata": {
        "id": "3F3-hajTBy05"
      },
      "outputs": [],
      "source": [
        "# Math/deep learning libraries\n",
        "import numpy as np\n",
        "import torch\n",
        "from torch import nn\n",
        "import pickle\n",
        "\n",
        "import torch.optim as optim\n",
        "from torch.utils.data import Dataset, DataLoader\n",
        "import itertools\n",
        "\n",
        "# Data processing\n",
        "import pandas as pd\n",
        "\n",
        "# Plotting\n",
        "import matplotlib.pyplot as plt\n",
        "\n",
        "# Progress bars\n",
        "import tqdm\n",
        "import random\n",
        "\n",
        "# Other\n",
        "import time\n",
        "from datetime import date"
      ]
    },
    {
      "cell_type": "code",
      "execution_count": null,
      "metadata": {
        "id": "PRb4FbqeCC1c"
      },
      "outputs": [],
      "source": [
        "# Set PyTorch to use the GPU\n",
        "device = torch.device('cuda')"
      ]
    },
    {
      "cell_type": "code",
      "execution_count": 4,
      "metadata": {
        "id": "shs5WMi5CeM2"
      },
      "outputs": [],
      "source": [
        "class MatrixDataset(Dataset):\n",
        "    def __init__(self, data, targets):\n",
        "        self.data = data\n",
        "        self.targets = targets\n",
        "\n",
        "    def __len__(self):\n",
        "        return len(self.data)\n",
        "\n",
        "    def __getitem__(self, idx):\n",
        "        return self.data[idx], self.targets[idx]"
      ]
    },
    {
      "cell_type": "code",
      "execution_count": 5,
      "metadata": {
        "id": "FH66J4WfCtZA"
      },
      "outputs": [],
      "source": [
        "class NeuralNetwork(nn.Module):\n",
        "    def __init__(self, input_size, hidden_size, output_size, num_layers, activation):\n",
        "        super(NeuralNetwork, self).__init__()\n",
        "        layers = []\n",
        "        layers.append(nn.Linear(input_size, hidden_size))\n",
        "        layers.append(activation)\n",
        "\n",
        "        for _ in range(num_layers-1):\n",
        "            layers.append(nn.Linear(hidden_size, hidden_size))\n",
        "            layers.append(activation)\n",
        "\n",
        "        layers.append(nn.Linear(hidden_size, output_size))\n",
        "        self.layers = nn.Sequential(*layers)\n",
        "\n",
        "    def forward(self, x):\n",
        "        return self.layers(x)"
      ]
    },
    {
      "cell_type": "code",
      "execution_count": 6,
      "metadata": {
        "id": "I5mfnu7VC1rT"
      },
      "outputs": [],
      "source": [
        "with open('test3_rs_segments.pickle', 'rb') as f:\n",
        "    segments = pickle.load(f)"
      ]
    },
    {
      "cell_type": "code",
      "execution_count": 7,
      "metadata": {
        "id": "fJJzG8XDC9C1"
      },
      "outputs": [],
      "source": [
        "with open('test3_rs_bps.pickle', 'rb') as f:\n",
        "    targets = pickle.load(f)"
      ]
    },
    {
      "cell_type": "code",
      "execution_count": 31,
      "metadata": {
        "id": "oWyurYxqyqZf"
      },
      "outputs": [],
      "source": [
        "data_matrix = segments[0:100000, :]\n",
        "target_vector = targets[0:100000, 0]  # Example target vector\n",
        "\n",
        "dataset = MatrixDataset(data_matrix, target_vector)\n",
        "train_size = int(0.8 * len(dataset))\n",
        "val_size = len(dataset) - train_size\n",
        "train_dataset, val_dataset = torch.utils.data.random_split(dataset, [train_size, val_size])"
      ]
    },
    {
      "cell_type": "code",
      "execution_count": 32,
      "metadata": {
        "id": "gyxv3BqHPuDq"
      },
      "outputs": [],
      "source": [
        "subset_indices = random.sample(range(len(train_dataset)), 8000)\n",
        "small_train_dataset = torch.utils.data.Subset(train_dataset, subset_indices)\n",
        "\n",
        "large_validation_dataset = val_dataset\n",
        "\n",
        "indices = random.sample(range(len(val_dataset)), 2000)\n",
        "small_validation_dataset = torch.utils.data.Subset(val_dataset, indices)\n"
      ]
    },
    {
      "cell_type": "code",
      "execution_count": 39,
      "metadata": {
        "id": "KR2MMy70OmCw"
      },
      "outputs": [],
      "source": [
        "def grid_search():\n",
        "    # data_matrix = segments[0:10000, :]\n",
        "    # target_vector = targets[0:10000, 0]  # Example target vector\n",
        "\n",
        "    # dataset = MatrixDataset(data_matrix, target_vector)\n",
        "\n",
        "    input_size = 200 # len(data_matrix[0])  # Number of input features\n",
        "    output_size = 1  # Number of output units\n",
        "\n",
        "    best_losses = {}\n",
        "\n",
        "\n",
        "    # Define hyperparameters to tune\n",
        "    optimizers = [optim.SGD]\n",
        "    learning_rates = [0.0001]\n",
        "    batch_sizes = [8]\n",
        "    hidden_sizes = [100]\n",
        "    num_layers_options = [2]\n",
        "    activation_functions = [nn.Tanh()]\n",
        "    num_epochs = 50\n",
        "\n",
        "    # Generate all possible hyperparameter combinations\n",
        "    hyperparameter_combinations = itertools.product(optimizers, learning_rates, batch_sizes, hidden_sizes, num_layers_options, activation_functions)\n",
        "\n",
        "    for hyperparameters in hyperparameter_combinations:\n",
        "        optimizer_class, learning_rate, batch_size, hidden_size, num_layers, activation = hyperparameters\n",
        "\n",
        "        model = NeuralNetwork(input_size, hidden_size, output_size, num_layers, activation)\n",
        "\n",
        "        criterion = nn.MSELoss()\n",
        "        optimizer = optimizer_class(model.parameters(), lr=learning_rate)\n",
        "\n",
        "        dataloader = DataLoader(small_train_dataset, batch_size=batch_size, shuffle=True)\n",
        "        small_val_dataloader = DataLoader(small_validation_dataset, batch_size=batch_size, shuffle=False)\n",
        "        large_val_dataloader = DataLoader(large_validation_dataset, batch_size=batch_size, shuffle=False)\n",
        "\n",
        "        # val_dataloader = DataLoader(val_dataset, batch_size=batch_size, shuffle=False)\n",
        "\n",
        "\n",
        "        for epoch in range(num_epochs):\n",
        "            train_loss = 0.0\n",
        "            small_val_loss = 0.0\n",
        "            large_val_loss = 0.0\n",
        "            train_losses = []\n",
        "            val_losses = []\n",
        "            for batch in dataloader:\n",
        "                inputs, labels = batch\n",
        "\n",
        "                optimizer.zero_grad()\n",
        "\n",
        "                outputs = model(inputs.float())\n",
        "                loss = criterion(outputs.squeeze(), labels.float())\n",
        "                loss.backward()\n",
        "                optimizer.step()\n",
        "\n",
        "                train_loss += loss.item() #* inputs.size(0)\n",
        "              \n",
        "            model.eval()\n",
        "            with torch.no_grad():\n",
        "                for batch in small_val_dataloader:\n",
        "                    inputs, labels = batch\n",
        "\n",
        "                    outputs = model(inputs.float())\n",
        "                    loss = criterion(outputs.squeeze(), labels.float())\n",
        "\n",
        "                    small_val_loss += loss.item() #* inputs.size(0)\n",
        "\n",
        "                for batch in large_val_dataloader:\n",
        "                    inputs, labels = batch\n",
        "\n",
        "                    outputs = model(inputs.float())\n",
        "                    loss = criterion(outputs.squeeze(), labels.float())\n",
        "\n",
        "                    large_val_loss += loss.item() #* inputs.size(0)  \n",
        "\n",
        "            train_loss /= len(dataloader) #/= len(train_dataset)\n",
        "            small_val_loss /= len(small_val_dataloader)#/= len(val_dataset)\n",
        "            large_val_loss /= len(large_val_dataloader)\n",
        "\n",
        "\n",
        "            train_losses.append(train_loss)\n",
        "            #val_losses.append(val_loss)\n",
        "\n",
        "            print(f\"Epoch [{epoch+1}/{num_epochs}], Train Loss: {train_loss}, Small Val Loss: {small_val_loss}, Large Val Loss: {large_val_loss}\")     \n",
        "\n",
        "        best_losses[hyperparameters] = min(val_losses)   \n",
        "\n",
        "    return best_losses   \n"
      ]
    },
    {
      "cell_type": "code",
      "execution_count": null,
      "metadata": {
        "id": "FCZ8GftmgO7N"
      },
      "outputs": [],
      "source": [
        "best_losses = grid_search()"
      ]
    },
    {
      "cell_type": "markdown",
      "metadata": {
        "id": "wMWVI_dUOE_3"
      },
      "source": [
        "Epoch [1/50], Train Loss: 397.8200512403488, Val Loss: 356.3549371192932\n",
        "Epoch [2/50], Train Loss: 344.8060323894501, Val Loss: 355.178983984375\n",
        "Epoch [3/50], Train Loss: 344.61239121603967, Val Loss: 354.60480468673705\n",
        "Epoch [4/50], Train Loss: 344.6057641729355, Val Loss: 354.5025220123291\n",
        "Epoch [5/50], Train Loss: 344.3564712032318, Val Loss: 354.7505037132263\n",
        "Epoch [6/50], Train Loss: 321.97233925876617, Val Loss: 296.2992399124146\n",
        "Epoch [7/50], Train Loss: 281.75307055244446, Val Loss: 283.0908656616211\n",
        "Epoch [8/50], Train Loss: 266.18943858366015, Val Loss: 261.9892930326462\n",
        "Epoch [9/50], Train Loss: 255.67472992789746, Val Loss: 260.8859617946625\n",
        "Epoch [10/50], Train Loss: 249.57072722625733, Val Loss: 253.94115890388488\n",
        "Epoch [11/50], Train Loss: 244.4319712805748, Val Loss: 248.9308003162384\n",
        "Epoch [12/50], Train Loss: 239.9460233649254, Val Loss: 246.9047456911087\n",
        "Epoch [13/50], Train Loss: 237.14328392801283, Val Loss: 262.85177278175354\n",
        "Epoch [14/50], Train Loss: 233.3176282480955, Val Loss: 243.36888393993377\n",
        "Epoch [15/50], Train Loss: 230.32187635512352, Val Loss: 231.99126099243165\n",
        "Epoch [16/50], Train Loss: 226.8212459525585, Val Loss: 237.14673652267456\n",
        "Epoch [17/50], Train Loss: 225.00678056583405, Val Loss: 240.41732407569884\n",
        "Epoch [18/50], Train Loss: 222.7048129172802, Val Loss: 229.78529976959229\n",
        "Epoch [19/50], Train Loss: 221.64969244832992, Val Loss: 224.94140036849976\n",
        "Epoch [20/50], Train Loss: 219.02895760755538, Val Loss: 221.69591125583648"
      ]
    },
    {
      "cell_type": "code",
      "execution_count": null,
      "metadata": {
        "id": "G1-pvGypGQLx"
      },
      "outputs": [],
      "source": []
    },
    {
      "cell_type": "code",
      "execution_count": null,
      "metadata": {
        "colab": {
          "base_uri": "https://localhost:8080/"
        },
        "id": "Ew-tFqxvGeRO",
        "outputId": "5fa143c6-b9a6-43a4-cb36-3017b0d43983"
      },
      "outputs": [
        {
          "data": {
            "text/plain": [
              "{(torch.optim.sgd.SGD, 5e-05, 4, 100, 2, Tanh()): 220.42862635757922,\n",
              " (torch.optim.sgd.SGD, 5e-05, 4, 150, 2, Tanh()): 223.55979722115993,\n",
              " (torch.optim.sgd.SGD, 5e-05, 8, 100, 2, Tanh()): 230.66835813407897,\n",
              " (torch.optim.sgd.SGD, 5e-05, 8, 150, 2, Tanh()): 233.32362754249573,\n",
              " (torch.optim.sgd.SGD, 5e-05, 12, 100, 2, Tanh()): 257.1225696220398,\n",
              " (torch.optim.sgd.SGD, 5e-05, 12, 150, 2, Tanh()): 261.19646796875,\n",
              " (torch.optim.sgd.SGD, 0.0001, 4, 100, 2, Tanh()): 223.67885671454073,\n",
              " (torch.optim.sgd.SGD, 0.0001, 4, 150, 2, Tanh()): 239.67031436984539,\n",
              " (torch.optim.sgd.SGD, 0.0001, 8, 100, 2, Tanh()): 215.84895410804748,\n",
              " (torch.optim.sgd.SGD, 0.0001, 8, 150, 2, Tanh()): 224.85064413261415,\n",
              " (torch.optim.sgd.SGD, 0.0001, 12, 100, 2, Tanh()): 219.46310181427003,\n",
              " (torch.optim.sgd.SGD, 0.0001, 12, 150, 2, Tanh()): 222.51467427330016,\n",
              " (torch.optim.sgd.SGD, 0.0005, 4, 100, 2, Tanh()): 297.80907680444716,\n",
              " (torch.optim.sgd.SGD, 0.0005, 4, 150, 2, Tanh()): 293.44154190735816,\n",
              " (torch.optim.sgd.SGD, 0.0005, 8, 100, 2, Tanh()): 276.56454409561155,\n",
              " (torch.optim.sgd.SGD, 0.0005, 8, 150, 2, Tanh()): 262.325063420105,\n",
              " (torch.optim.sgd.SGD, 0.0005, 12, 100, 2, Tanh()): 255.70973523406983,\n",
              " (torch.optim.sgd.SGD, 0.0005, 12, 150, 2, Tanh()): 242.29461793251036}"
            ]
          },
          "execution_count": 16,
          "metadata": {},
          "output_type": "execute_result"
        }
      ],
      "source": [
        "best_losses"
      ]
    },
    {
      "cell_type": "code",
      "execution_count": null,
      "metadata": {
        "id": "rCOQZUajqNBS"
      },
      "outputs": [],
      "source": [
        "import heapq"
      ]
    },
    {
      "cell_type": "code",
      "execution_count": null,
      "metadata": {
        "id": "nq4JLTX0Uvn7"
      },
      "outputs": [],
      "source": []
    },
    {
      "cell_type": "code",
      "execution_count": null,
      "metadata": {
        "id": "90TuyyhIGylm"
      },
      "outputs": [],
      "source": [
        "save_best_losses = best_losses\n",
        "# Get the top three entries with lowest values\n",
        "top_entries = heapq.nsmallest(5, best_losses, key=best_losses.get)"
      ]
    },
    {
      "cell_type": "code",
      "execution_count": null,
      "metadata": {
        "colab": {
          "base_uri": "https://localhost:8080/"
        },
        "id": "InIRhyT5qrvh",
        "outputId": "b05b5698-3d07-443c-e4f8-177b9170aac4"
      },
      "outputs": [
        {
          "name": "stdout",
          "output_type": "stream",
          "text": [
            "(<class 'torch.optim.sgd.SGD'>, 0.0001, 8, 100, 2, Tanh()) 160.53845996856688\n",
            "(<class 'torch.optim.sgd.SGD'>, 0.0001, 8, 50, 2, Tanh()) 166.0428687133789\n",
            "(<class 'torch.optim.sgd.SGD'>, 0.0001, 8, 100, 1, Tanh()) 174.8232172241211\n",
            "(<class 'torch.optim.sgd.SGD'>, 1e-05, 2, 100, 2, Tanh()) 176.93483731678734\n",
            "(<class 'torch.optim.sgd.SGD'>, 0.0001, 8, 50, 1, Tanh()) 177.9385859375\n"
          ]
        }
      ],
      "source": [
        "# Print the top three entries\n",
        "for entry in top_entries:\n",
        "    print(entry, best_losses[entry])"
      ]
    },
    {
      "cell_type": "code",
      "execution_count": null,
      "metadata": {
        "id": "p36-VefTTP8Q"
      },
      "outputs": [],
      "source": [
        "# Dictionary of validation losses for different hyperparameter combinations\n",
        "validation_losses = best_losses\n",
        "\n",
        "# Plotting validation losses\n",
        "plt.figure(figsize=(10, 6))\n",
        "for hyperparameters, losses in validation_losses.items():\n",
        "    epochs = np.arange(1, len(losses) + 1)\n",
        "    plt.plot(epochs, losses, label=str(hyperparameters))\n",
        "\n",
        "plt.xlabel('Epoch')\n",
        "plt.ylabel('Validation Loss')\n",
        "plt.title('Validation Loss for Different Hyperparameter Combinations')\n",
        "plt.legend()\n",
        "plt.tight_layout()\n",
        "plt.show()\n",
        "\n",
        "# Get the top three best performing hyperparameter combinations\n",
        "top_three = sorted(validation_losses.items(), key=lambda x: np.mean(x[1]))[:3]\n"
      ]
    },
    {
      "cell_type": "code",
      "execution_count": null,
      "metadata": {
        "id": "uTVXdW-3p9yf"
      },
      "outputs": [],
      "source": [
        "top_three"
      ]
    },
    {
      "cell_type": "markdown",
      "metadata": {
        "id": "g7rjZExjOmbv"
      },
      "source": [
        "Old Code (not for hyper parameter tuning)"
      ]
    },
    {
      "cell_type": "code",
      "execution_count": null,
      "metadata": {
        "id": "0mKh3KfLCvuU"
      },
      "outputs": [],
      "source": [
        "# Example usage\n",
        "data_matrix = segments[0:100000, :]\n",
        "target_vector = targets[0:100000, 0]  # Example target vector\n",
        "\n",
        "dataset = MatrixDataset(data_matrix, target_vector)\n",
        "train_size = int(0.8 * len(dataset))\n",
        "val_size = len(dataset) - train_size\n",
        "train_dataset, val_dataset = torch.utils.data.random_split(dataset, [train_size, val_size])"
      ]
    },
    {
      "cell_type": "code",
      "execution_count": null,
      "metadata": {
        "colab": {
          "base_uri": "https://localhost:8080/",
          "height": 240
        },
        "id": "LOVMtrtzDH87",
        "outputId": "a4f12e96-da68-4fdd-9b1d-2dcf42fb93c6"
      },
      "outputs": [
        {
          "ename": "NameError",
          "evalue": "ignored",
          "output_type": "error",
          "traceback": [
            "\u001b[0;31m---------------------------------------------------------------------------\u001b[0m",
            "\u001b[0;31mNameError\u001b[0m                                 Traceback (most recent call last)",
            "\u001b[0;32m<ipython-input-11-f688b3587ff5>\u001b[0m in \u001b[0;36m<cell line: 1>\u001b[0;34m()\u001b[0m\n\u001b[0;32m----> 1\u001b[0;31m \u001b[0mtrain_dataloader\u001b[0m \u001b[0;34m=\u001b[0m \u001b[0mDataLoader\u001b[0m\u001b[0;34m(\u001b[0m\u001b[0mtrain_dataset\u001b[0m\u001b[0;34m,\u001b[0m \u001b[0mbatch_size\u001b[0m\u001b[0;34m=\u001b[0m\u001b[0;36m2\u001b[0m\u001b[0;34m,\u001b[0m \u001b[0mshuffle\u001b[0m\u001b[0;34m=\u001b[0m\u001b[0;32mTrue\u001b[0m\u001b[0;34m)\u001b[0m\u001b[0;34m\u001b[0m\u001b[0;34m\u001b[0m\u001b[0m\n\u001b[0m\u001b[1;32m      2\u001b[0m \u001b[0mval_dataloader\u001b[0m \u001b[0;34m=\u001b[0m \u001b[0mDataLoader\u001b[0m\u001b[0;34m(\u001b[0m\u001b[0mval_dataset\u001b[0m\u001b[0;34m,\u001b[0m \u001b[0mbatch_size\u001b[0m\u001b[0;34m=\u001b[0m\u001b[0;36m2\u001b[0m\u001b[0;34m,\u001b[0m \u001b[0mshuffle\u001b[0m\u001b[0;34m=\u001b[0m\u001b[0;32mFalse\u001b[0m\u001b[0;34m)\u001b[0m\u001b[0;34m\u001b[0m\u001b[0;34m\u001b[0m\u001b[0m\n\u001b[1;32m      3\u001b[0m \u001b[0;34m\u001b[0m\u001b[0m\n\u001b[1;32m      4\u001b[0m \u001b[0minput_size\u001b[0m \u001b[0;34m=\u001b[0m \u001b[0mlen\u001b[0m\u001b[0;34m(\u001b[0m\u001b[0mdata_matrix\u001b[0m\u001b[0;34m[\u001b[0m\u001b[0;36m0\u001b[0m\u001b[0;34m]\u001b[0m\u001b[0;34m)\u001b[0m  \u001b[0;31m# Number of input features\u001b[0m\u001b[0;34m\u001b[0m\u001b[0;34m\u001b[0m\u001b[0m\n\u001b[1;32m      5\u001b[0m \u001b[0mhidden_size\u001b[0m \u001b[0;34m=\u001b[0m \u001b[0;36m100\u001b[0m  \u001b[0;31m# Number of hidden units\u001b[0m\u001b[0;34m\u001b[0m\u001b[0;34m\u001b[0m\u001b[0m\n",
            "\u001b[0;31mNameError\u001b[0m: name 'train_dataset' is not defined"
          ]
        }
      ],
      "source": [
        "train_dataloader = DataLoader(train_dataset, batch_size=2, shuffle=True)\n",
        "val_dataloader = DataLoader(val_dataset, batch_size=2, shuffle=False)\n",
        "\n",
        "input_size = len(data_matrix[0])  # Number of input features\n",
        "hidden_size = 100  # Number of hidden units\n",
        "output_size = 1  # Number of output units"
      ]
    },
    {
      "cell_type": "code",
      "execution_count": null,
      "metadata": {
        "id": "dy_boYnVDMIo"
      },
      "outputs": [],
      "source": [
        "model = NeuralNetwork(input_size, hidden_size, output_size)\n"
      ]
    },
    {
      "cell_type": "code",
      "execution_count": null,
      "metadata": {
        "id": "Rm1oJ34-DcTi"
      },
      "outputs": [],
      "source": [
        "criterion = nn.MSELoss()\n",
        "optimizer = optim.SGD(model.parameters(), lr=0.00001)"
      ]
    },
    {
      "cell_type": "code",
      "execution_count": null,
      "metadata": {
        "colab": {
          "base_uri": "https://localhost:8080/"
        },
        "id": "MjyKc_PTEP4f",
        "outputId": "aa848597-504a-462a-9314-c1ee0b227015"
      },
      "outputs": [
        {
          "name": "stdout",
          "output_type": "stream",
          "text": [
            "Epoch [1/40], Train Loss: 128.6367932462072, Val Loss: 39.98491190701723\n",
            "Epoch [2/40], Train Loss: 35.29578064914607, Val Loss: 39.53787283102125\n",
            "Epoch [3/40], Train Loss: 33.78789266104661, Val Loss: 36.16951020797901\n",
            "Epoch [4/40], Train Loss: 30.69703432276845, Val Loss: 32.57808128993213\n",
            "Epoch [5/40], Train Loss: 28.495124282807346, Val Loss: 30.577103423796594\n",
            "Epoch [6/40], Train Loss: 26.986643881878535, Val Loss: 29.197034176206962\n",
            "Epoch [7/40], Train Loss: 25.723612329675724, Val Loss: 27.057057223229855\n",
            "Epoch [8/40], Train Loss: 24.862789185069037, Val Loss: 26.235991677289643\n",
            "Epoch [9/40], Train Loss: 24.25343547119985, Val Loss: 25.833746045728773\n",
            "Epoch [10/40], Train Loss: 23.532081738048607, Val Loss: 24.39468600614667\n",
            "Epoch [11/40], Train Loss: 22.9867999942065, Val Loss: 23.61282382367179\n",
            "Epoch [12/40], Train Loss: 22.532422380419636, Val Loss: 23.427034247493744\n",
            "Epoch [13/40], Train Loss: 22.12025065492354, Val Loss: 22.688687309253215\n",
            "Epoch [14/40], Train Loss: 21.751749631150254, Val Loss: 22.467768434283325\n",
            "Epoch [15/40], Train Loss: 21.16748934723644, Val Loss: 21.75912727100104\n",
            "Epoch [16/40], Train Loss: 20.901732875773067, Val Loss: 23.163184631925823\n",
            "Epoch [17/40], Train Loss: 20.548925189142093, Val Loss: 20.93442518442869\n",
            "Epoch [18/40], Train Loss: 20.15665733488593, Val Loss: 20.667517357513308\n",
            "Epoch [19/40], Train Loss: 19.828717926228514, Val Loss: 19.953853606285435\n",
            "Epoch [20/40], Train Loss: 19.52160447896756, Val Loss: 20.14569028520854\n",
            "Epoch [21/40], Train Loss: 19.244761153356684, Val Loss: 19.469959413707258\n",
            "Epoch [22/40], Train Loss: 19.02278629521624, Val Loss: 19.327713065247238\n",
            "Epoch [23/40], Train Loss: 18.803501443068033, Val Loss: 18.640250734181702\n",
            "Epoch [24/40], Train Loss: 18.511901329616084, Val Loss: 18.41408968460858\n",
            "Epoch [25/40], Train Loss: 18.34553612965634, Val Loss: 18.496025811675935\n",
            "Epoch [26/40], Train Loss: 18.1577806482675, Val Loss: 18.50326125586629\n",
            "Epoch [27/40], Train Loss: 17.954609579096733, Val Loss: 18.39083761548847\n",
            "Epoch [28/40], Train Loss: 17.82329925865792, Val Loss: 17.807900108046038\n",
            "Epoch [29/40], Train Loss: 17.580408191437165, Val Loss: 17.44059391245842\n",
            "Epoch [30/40], Train Loss: 17.420801271620487, Val Loss: 17.932825356061755\n",
            "Epoch [31/40], Train Loss: 17.4034645971518, Val Loss: 19.141681742522866\n",
            "Epoch [32/40], Train Loss: 17.249777549739928, Val Loss: 17.804531970515846\n",
            "Epoch [33/40], Train Loss: 17.102021118644625, Val Loss: 17.56214745708257\n",
            "Epoch [34/40], Train Loss: 17.032741936559137, Val Loss: 18.838578050410746\n",
            "Epoch [35/40], Train Loss: 17.056603882733604, Val Loss: 16.81521860740185\n",
            "Epoch [36/40], Train Loss: 16.881371471051498, Val Loss: 18.673898353733122\n",
            "Epoch [37/40], Train Loss: 16.73276680850908, Val Loss: 16.822408807456494\n",
            "Epoch [38/40], Train Loss: 16.697231390567495, Val Loss: 17.26662790812105\n",
            "Epoch [39/40], Train Loss: 16.615116870156605, Val Loss: 16.703496892477943\n",
            "Epoch [40/40], Train Loss: 16.606100817541126, Val Loss: 16.867751056562366\n"
          ]
        }
      ],
      "source": [
        "\n",
        "# Training loop\n",
        "num_epochs = 40\n",
        "train_losses = []\n",
        "val_losses = []\n",
        "\n",
        "for epoch in range(num_epochs):\n",
        "    train_loss = 0.0\n",
        "    val_loss = 0.0\n",
        "\n",
        "    model.train()\n",
        "    for batch in train_dataloader:\n",
        "        inputs, labels = batch\n",
        "\n",
        "        optimizer.zero_grad()\n",
        "\n",
        "        outputs = model(inputs.float())\n",
        "        loss = criterion(outputs.squeeze(), labels.float())\n",
        "        loss.backward()\n",
        "        optimizer.step()\n",
        "\n",
        "        train_loss += loss.item() * inputs.size(0)\n",
        "\n",
        "    model.eval()\n",
        "    with torch.no_grad():\n",
        "        for batch in val_dataloader:\n",
        "            inputs, labels = batch\n",
        "\n",
        "            outputs = model(inputs.float())\n",
        "            loss = criterion(outputs.squeeze(), labels.float())\n",
        "\n",
        "            val_loss += loss.item() * inputs.size(0)\n",
        "\n",
        "    train_loss /= len(train_dataset)\n",
        "    val_loss /= len(val_dataset)\n",
        "\n",
        "    train_losses.append(train_loss)\n",
        "    val_losses.append(val_loss)\n",
        "\n",
        "    print(f\"Epoch [{epoch+1}/{num_epochs}], Train Loss: {train_loss}, Val Loss: {val_loss}\")"
      ]
    },
    {
      "cell_type": "code",
      "execution_count": null,
      "metadata": {
        "colab": {
          "base_uri": "https://localhost:8080/",
          "height": 472
        },
        "id": "UJr4QpRtEX5Y",
        "outputId": "2c4599f6-4a53-4e08-daf8-636c4fb2dce3"
      },
      "outputs": [
        {
          "data": {
            "image/png": "[encoded data removed]",
            "text/plain": [
              "<Figure size 640x480 with 1 Axes>"
            ]
          },
          "metadata": {},
          "output_type": "display_data"
        }
      ],
      "source": [
        "# Plotting training and validation loss\n",
        "plt.plot(range(1, num_epochs+1), train_losses, label='Train Loss')\n",
        "plt.plot(range(1, num_epochs+1), val_losses, label='Val Loss')\n",
        "plt.xlabel('Epoch')\n",
        "plt.ylabel('Loss')\n",
        "plt.title('Training and Validation Loss')\n",
        "plt.legend()\n",
        "plt.show()\n"
      ]
    },
    {
      "cell_type": "code",
      "execution_count": null,
      "metadata": {
        "id": "_qTywoQWEayP"
      },
      "outputs": [],
      "source": [
        "# Example inference\n",
        "# test_input = torch.tensor([[1, 2, 3], [4, 5, 6]])\n",
        "# with torch.no_grad():\n",
        "#     predicted_labels = model(test_input.float())\n",
        "\n",
        "# print(\"Predicted labels:\", predicted_labels.squeeze().tolist())"
      ]
    }
  ],
  "metadata": {
    "colab": {
      "provenance": []
    },
    "gpuClass": "standard",
    "kernelspec": {
      "display_name": "Python 3",
      "name": "python3"
    },
    "language_info": {
      "name": "python",
      "version": "3.10.10"
    }
  },
  "nbformat": 4,
  "nbformat_minor": 0
}
